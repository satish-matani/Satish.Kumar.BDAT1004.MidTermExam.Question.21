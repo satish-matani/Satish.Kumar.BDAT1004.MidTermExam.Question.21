{
 "cells": [
  {
   "cell_type": "markdown",
   "id": "6ba0edba",
   "metadata": {},
   "source": [
    "# Question 21\n",
    "\n",
    "__int()__: Constructor that takes as input a pair of Point objects that represent the ends points of the line segment\n",
    "\n",
    "Length():: returns the length if the segment \n",
    "\n",
    "Slope() returns the slope of the segment of none if the slope is unbounded \n",
    "\n",
    " \n",
    "\n",
    "p1 = Point(3,4)\n",
    "\n",
    "p2 = Point()\n",
    "\n",
    "s = Segment(p1,p2)\n",
    "\n",
    "s.length()\n",
    "\n",
    "5.0\n",
    "\n",
    "s.slope()\n",
    "\n",
    "0.75"
   ]
  },
  {
   "cell_type": "code",
   "execution_count": 21,
   "id": "b65b6d33",
   "metadata": {},
   "outputs": [
    {
     "name": "stdout",
     "output_type": "stream",
     "text": [
      "Length: 5.0\n",
      "Slope: 0.75\n"
     ]
    }
   ],
   "source": [
    "import math # importing math python inbuilt library\n",
    "\n",
    "\n",
    "class Point:\n",
    "    \n",
    "  def __init__(self,px=0,py=0):\n",
    "    self.px = px\n",
    "    self.py = py\n",
    "\n",
    "class Segment:\n",
    "    \n",
    "  def __init__(self, p1, p2):\n",
    "    self.p1 = p1\n",
    "    self.p2 = p2\n",
    "\n",
    "  def length(self):\n",
    "    return math.sqrt((self.p2.px - self.p1.px)**2 + (self.p2.py - self.p1.py)**2) #calculating length\n",
    "\n",
    "  def slope(self):\n",
    "    return (self.p2.px-self.p1.px)/(self.p2.py-self.p1.py) # calculating slope\n",
    "\n",
    "\n",
    "\n",
    "p1 = Point(3, 4)\n",
    "p2 = Point()  # Initializing Point() to (0, 0) as no arguments are passedq\n",
    "s = Segment(p1, p2)\n",
    "print(\"Length:\", s.length())\n",
    "print(\"Slope:\", s.slope())"
   ]
  },
  {
   "cell_type": "code",
   "execution_count": null,
   "id": "ffee5c39",
   "metadata": {},
   "outputs": [],
   "source": []
  },
  {
   "cell_type": "code",
   "execution_count": null,
   "id": "c438aca6",
   "metadata": {},
   "outputs": [],
   "source": []
  }
 ],
 "metadata": {
  "kernelspec": {
   "display_name": "Python 3 (ipykernel)",
   "language": "python",
   "name": "python3"
  },
  "language_info": {
   "codemirror_mode": {
    "name": "ipython",
    "version": 3
   },
   "file_extension": ".py",
   "mimetype": "text/x-python",
   "name": "python",
   "nbconvert_exporter": "python",
   "pygments_lexer": "ipython3",
   "version": "3.11.5"
  }
 },
 "nbformat": 4,
 "nbformat_minor": 5
}
